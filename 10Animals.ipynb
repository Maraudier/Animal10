{
  "nbformat": 4,
  "nbformat_minor": 0,
  "metadata": {
    "colab": {
      "name": "10Animals.ipynb",
      "provenance": [],
      "collapsed_sections": [],
      "authorship_tag": "ABX9TyPiez1o7MWdd3sku4FWQHwX",
      "include_colab_link": true
    },
    "kernelspec": {
      "name": "python3",
      "display_name": "Python 3"
    },
    "accelerator": "GPU"
  },
  "cells": [
    {
      "cell_type": "markdown",
      "metadata": {
        "id": "view-in-github",
        "colab_type": "text"
      },
      "source": [
        "<a href=\"https://colab.research.google.com/github/Maraudier/Animal10/blob/testing-branch/10Animals.ipynb\" target=\"_parent\"><img src=\"https://colab.research.google.com/assets/colab-badge.svg\" alt=\"Open In Colab\"/></a>"
      ]
    },
    {
      "cell_type": "code",
      "metadata": {
        "id": "CPeaAOk4tVhj",
        "colab_type": "code",
        "colab": {}
      },
      "source": [
        "#Obtain your Kaggle token. \n",
        "token = {\"username\":\"lightshift\",\"key\":\"b7ab47deb22bd26d7cb071a39c232d1c\"}\n",
        "#Colab and Kaggle set up\n",
        "from google.colab import files\n",
        "!pip install kaggle\n",
        "!mkdir .kaggle\n",
        "!mkdir ~/.kaggle\n",
        "import json \n",
        "import os\n",
        "if not os.path.exists('/content/.kaggle/kaggle.json'):\n",
        "  with open('/content/.kaggle/kaggle.json', 'w') as file:\n",
        "    json.dump(token, file)\n",
        "  !chmod 600 /content/.kaggle/kaggle.json\n",
        "  !cp /content/.kaggle/kaggle.json ~/.kaggle/kaggle.json\n",
        "  !kaggle config set -n path -v{/content}\n",
        "\n",
        "  !kaggle datasets download -d alessiocorrado99/animals10 -p /content\n",
        "  !unzip \\*.zip\n",
        "  !rm -rf /content/dataset/dataset/\n",
        "  !ls"
      ],
      "execution_count": 0,
      "outputs": []
    },
    {
      "cell_type": "code",
      "metadata": {
        "id": "9JHbpKeXteAd",
        "colab_type": "code",
        "colab": {
          "base_uri": "https://localhost:8080/",
          "height": 69
        },
        "outputId": "b1426fd5-b0d1-4a56-9d57-c09d0bb5bc1a"
      },
      "source": [
        "#Set up GPU utility and print confirmation\n",
        "import tensorflow as tf\n",
        "import torch\n",
        "device_name = tf.test.gpu_device_name()\n",
        "device = torch.device(\"cuda\")\n",
        "if device_name == '/device:GPU:0':\n",
        "  if torch.cuda.is_available():\n",
        "    print(\"%d GPU(s) \" % torch.cuda.device_count())\n",
        "    print(\"Using \", torch.cuda.get_device_name(0))\n",
        "  print('GPU confirmed: {}'.format(device_name))\n",
        "else:\n",
        "  print(\"No GPU, defaulting to CPU\")\n",
        "  device = torch.device(\"cpu\")\n",
        "  #Raise System Error if issues with CPU\n",
        "  #raise SystemError(\"No GPU\")"
      ],
      "execution_count": 3,
      "outputs": [
        {
          "output_type": "stream",
          "text": [
            "1 GPU(s) \n",
            "Using  Tesla K80\n",
            "GPU confirmed: /device:GPU:0\n"
          ],
          "name": "stdout"
        }
      ]
    },
    {
      "cell_type": "code",
      "metadata": {
        "id": "O1sg-lWNP3q2",
        "colab_type": "code",
        "colab": {
          "base_uri": "https://localhost:8080/",
          "height": 315
        },
        "outputId": "4db4caa0-9dd2-4a91-b6c8-28e9b931af90"
      },
      "source": [
        "!pip3 install imageai --upgrade"
      ],
      "execution_count": 24,
      "outputs": [
        {
          "output_type": "stream",
          "text": [
            "Collecting imageai\n",
            "\u001b[?25l  Downloading https://files.pythonhosted.org/packages/09/99/4023e191a343fb23f01ae02ac57a5ca58037c310e8d8c62f87638a3bafc7/imageai-2.1.5-py3-none-any.whl (180kB)\n",
            "\r\u001b[K     |█▉                              | 10kB 20.6MB/s eta 0:00:01\r\u001b[K     |███▋                            | 20kB 4.7MB/s eta 0:00:01\r\u001b[K     |█████▍                          | 30kB 6.5MB/s eta 0:00:01\r\u001b[K     |███████▎                        | 40kB 8.3MB/s eta 0:00:01\r\u001b[K     |█████████                       | 51kB 5.4MB/s eta 0:00:01\r\u001b[K     |██████████▉                     | 61kB 6.3MB/s eta 0:00:01\r\u001b[K     |████████████▊                   | 71kB 7.1MB/s eta 0:00:01\r\u001b[K     |██████████████▌                 | 81kB 7.9MB/s eta 0:00:01\r\u001b[K     |████████████████▎               | 92kB 8.7MB/s eta 0:00:01\r\u001b[K     |██████████████████▏             | 102kB 7.0MB/s eta 0:00:01\r\u001b[K     |████████████████████            | 112kB 7.0MB/s eta 0:00:01\r\u001b[K     |█████████████████████▊          | 122kB 7.0MB/s eta 0:00:01\r\u001b[K     |███████████████████████▋        | 133kB 7.0MB/s eta 0:00:01\r\u001b[K     |█████████████████████████▍      | 143kB 7.0MB/s eta 0:00:01\r\u001b[K     |███████████████████████████▏    | 153kB 7.0MB/s eta 0:00:01\r\u001b[K     |█████████████████████████████   | 163kB 7.0MB/s eta 0:00:01\r\u001b[K     |██████████████████████████████▉ | 174kB 7.0MB/s eta 0:00:01\r\u001b[K     |████████████████████████████████| 184kB 7.0MB/s \n",
            "\u001b[?25hRequirement already satisfied, skipping upgrade: matplotlib in /usr/local/lib/python3.6/dist-packages (from imageai) (3.1.3)\n",
            "Requirement already satisfied, skipping upgrade: scipy in /usr/local/lib/python3.6/dist-packages (from imageai) (1.4.1)\n",
            "Requirement already satisfied, skipping upgrade: numpy in /usr/local/lib/python3.6/dist-packages (from imageai) (1.17.5)\n",
            "Requirement already satisfied, skipping upgrade: pillow in /usr/local/lib/python3.6/dist-packages (from imageai) (6.2.2)\n",
            "Requirement already satisfied, skipping upgrade: h5py in /usr/local/lib/python3.6/dist-packages (from imageai) (2.8.0)\n",
            "Requirement already satisfied, skipping upgrade: kiwisolver>=1.0.1 in /usr/local/lib/python3.6/dist-packages (from matplotlib->imageai) (1.1.0)\n",
            "Requirement already satisfied, skipping upgrade: python-dateutil>=2.1 in /usr/local/lib/python3.6/dist-packages (from matplotlib->imageai) (2.6.1)\n",
            "Requirement already satisfied, skipping upgrade: pyparsing!=2.0.4,!=2.1.2,!=2.1.6,>=2.0.1 in /usr/local/lib/python3.6/dist-packages (from matplotlib->imageai) (2.4.6)\n",
            "Requirement already satisfied, skipping upgrade: cycler>=0.10 in /usr/local/lib/python3.6/dist-packages (from matplotlib->imageai) (0.10.0)\n",
            "Requirement already satisfied, skipping upgrade: six in /usr/local/lib/python3.6/dist-packages (from h5py->imageai) (1.12.0)\n",
            "Requirement already satisfied, skipping upgrade: setuptools in /usr/local/lib/python3.6/dist-packages (from kiwisolver>=1.0.1->matplotlib->imageai) (45.2.0)\n",
            "Installing collected packages: imageai\n",
            "Successfully installed imageai-2.1.5\n"
          ],
          "name": "stdout"
        }
      ]
    },
    {
      "cell_type": "code",
      "metadata": {
        "id": "gEnQtt3l3V2z",
        "colab_type": "code",
        "colab": {}
      },
      "source": [
        "#imports for model1\n",
        "#model1 \n",
        "from tensorflow.keras.layers import Dense, Flatten, Dropout\n",
        "\n",
        "#Model1 \n"
      ],
      "execution_count": 0,
      "outputs": []
    },
    {
      "cell_type": "code",
      "metadata": {
        "id": "6Z-mRq59NjCD",
        "colab_type": "code",
        "colab": {}
      },
      "source": [
        ""
      ],
      "execution_count": 0,
      "outputs": []
    },
    {
      "cell_type": "code",
      "metadata": {
        "id": "QWjKpmK_3_8k",
        "colab_type": "code",
        "colab": {}
      },
      "source": [
        "#imports for v3\n",
        "#model definition Inception V3"
      ],
      "execution_count": 0,
      "outputs": []
    },
    {
      "cell_type": "code",
      "metadata": {
        "id": "jmEtg4OQ_hP_",
        "colab_type": "code",
        "colab": {}
      },
      "source": [
        "#imports for Capsule\n",
        "#https://keras.io/examples/cifar10_cnn_capsule/\n",
        "from __future__ import print_function\n",
        "from keras import backend as K\n",
        "from keras.layers import Layer\n",
        "from keras import activations\n",
        "from keras.models import Model\n",
        "from keras.models import Sequential\n",
        "from keras.preprocessing.image import ImageDataGenerator\n",
        "#Model Definition for Capsule\n"
      ],
      "execution_count": 0,
      "outputs": []
    },
    {
      "cell_type": "code",
      "metadata": {
        "id": "E_MBMQr93YuT",
        "colab_type": "code",
        "colab": {}
      },
      "source": [
        "#vgg model split into train/test"
      ],
      "execution_count": 0,
      "outputs": []
    },
    {
      "cell_type": "code",
      "metadata": {
        "id": "6n2riaU35UBI",
        "colab_type": "code",
        "colab": {}
      },
      "source": [
        "#v3 train test split"
      ],
      "execution_count": 0,
      "outputs": []
    },
    {
      "cell_type": "code",
      "metadata": {
        "id": "ClP8hwbh7IO3",
        "colab_type": "code",
        "colab": {}
      },
      "source": [
        "#Random Grid Search"
      ],
      "execution_count": 0,
      "outputs": []
    },
    {
      "cell_type": "code",
      "metadata": {
        "id": "NhecE86G7NdX",
        "colab_type": "code",
        "colab": {}
      },
      "source": [
        ""
      ],
      "execution_count": 0,
      "outputs": []
    }
  ]
}